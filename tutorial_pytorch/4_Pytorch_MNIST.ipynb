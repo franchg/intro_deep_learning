{
 "cells": [
  {
   "cell_type": "markdown",
   "metadata": {},
   "source": [
    "# A real problem: Classify MNIST Digits\n",
    "\n",
    "In this code tutorial we will learn how to quickly train a model to understand some of PyTorch's basic building blocks to train a deep learning model. This notebook is inspired by the [\"Tensorflow 2.0 Quickstart for experts\"](https://colab.research.google.com/github/tensorflow/docs/blob/master/site/en/tutorials/quickstart/advanced.ipynb#scrollTo=DUNzJc4jTj6G) notebook. \n",
    "\n",
    "**Complete Code Walkthrough:** [Blog post](https://medium.com/dair-ai/pytorch-1-2-quickstart-with-google-colab-6690a30c38d)"
   ]
  },
  {
   "cell_type": "code",
   "execution_count": 2,
   "metadata": {
    "cellView": "both",
    "colab": {},
    "colab_type": "code",
    "id": "bGU6NwlsXFSt"
   },
   "outputs": [
    {
     "ename": "ModuleNotFoundError",
     "evalue": "No module named 'torch'",
     "output_type": "error",
     "traceback": [
      "\u001b[0;31m---------------------------------------------------------------------------\u001b[0m",
      "\u001b[0;31mModuleNotFoundError\u001b[0m                       Traceback (most recent call last)",
      "\u001b[0;32m<ipython-input-2-cc3950fb7c65>\u001b[0m in \u001b[0;36m<module>\u001b[0;34m\u001b[0m\n\u001b[1;32m      1\u001b[0m \u001b[0;31m#@title Import Dependencies\u001b[0m\u001b[0;34m\u001b[0m\u001b[0;34m\u001b[0m\u001b[0;34m\u001b[0m\u001b[0m\n\u001b[1;32m      2\u001b[0m \u001b[0;34m\u001b[0m\u001b[0m\n\u001b[0;32m----> 3\u001b[0;31m \u001b[0;32mimport\u001b[0m \u001b[0mtorch\u001b[0m\u001b[0;34m\u001b[0m\u001b[0;34m\u001b[0m\u001b[0m\n\u001b[0m\u001b[1;32m      4\u001b[0m \u001b[0;32mimport\u001b[0m \u001b[0mtorch\u001b[0m\u001b[0;34m.\u001b[0m\u001b[0mnn\u001b[0m \u001b[0;32mas\u001b[0m \u001b[0mnn\u001b[0m\u001b[0;34m\u001b[0m\u001b[0;34m\u001b[0m\u001b[0m\n\u001b[1;32m      5\u001b[0m \u001b[0;32mimport\u001b[0m \u001b[0mtorchvision\u001b[0m\u001b[0;34m.\u001b[0m\u001b[0mdatasets\u001b[0m \u001b[0;32mas\u001b[0m \u001b[0mdsets\u001b[0m\u001b[0;34m\u001b[0m\u001b[0;34m\u001b[0m\u001b[0m\n",
      "\u001b[0;31mModuleNotFoundError\u001b[0m: No module named 'torch'"
     ]
    }
   ],
   "source": [
    "#@title Import Dependencies\n",
    "\n",
    "import torch\n",
    "import torch.nn as nn\n",
    "import torchvision.datasets as dsets\n",
    "import torchvision.transforms as transforms\n",
    "from torch.autograd import Variable"
   ]
  },
  {
   "cell_type": "code",
   "execution_count": 3,
   "metadata": {
    "cellView": "both",
    "colab": {},
    "colab_type": "code",
    "id": "_bNfVLRUYqZA"
   },
   "outputs": [],
   "source": [
    "#@title Define Hyperparameters\n",
    "\n",
    "input_size = 784 # img_size = (28,28) ---> 28*28=784 in total\n",
    "hidden_size = 500 # number of nodes at hidden layer\n",
    "num_classes = 10 # number of output classes discrete range [0,9]\n",
    "num_epochs = 20 # number of times which the entire dataset is passed throughout the model\n",
    "batch_size = 32 # the size of input data took for one iteration\n",
    "lr = 1e-3 # size of step "
   ]
  },
  {
   "cell_type": "markdown",
   "metadata": {},
   "source": [
    "# Importing the MNIST data\n",
    "The first step before training the model is to import the data. We will use the [MNIST dataset](http://yann.lecun.com/exdb/mnist/) which is like the Hello World dataset of machine learning. \n",
    "\n",
    "Besides importing the data, we will also do a few more things:\n",
    "- We will tranform the data into tensors using the `transforms` module\n",
    "- We will use `DataLoader` to build convenient data loaders or what are referred to as iterators, which makes it easy to efficiently feed data in batches to deep learning models. \n",
    "- As hinted above, we will also create batches of the data by setting the `batch` parameter inside the data loader. Notice we use batches of `32` in this tutorial but you can change it to `64` if you like. I encourage you to experiment with different batches."
   ]
  },
  {
   "cell_type": "code",
   "execution_count": 4,
   "metadata": {
    "colab": {},
    "colab_type": "code",
    "id": "lCsBCXMwbpH5"
   },
   "outputs": [],
   "source": [
    "#@title Downloading MNIST data\n",
    "\n",
    "train_data = dsets.MNIST(root = './data', train = True,\n",
    "                        transform = transforms.ToTensor(), download = True)\n",
    "\n",
    "test_data = dsets.MNIST(root = './data', train = False,\n",
    "                       transform = transforms.ToTensor())"
   ]
  },
  {
   "cell_type": "code",
   "execution_count": 5,
   "metadata": {
    "colab": {},
    "colab_type": "code",
    "id": "rfDPBdnYgfGp"
   },
   "outputs": [],
   "source": [
    "#@title Loading the data\n",
    "\n",
    "train_gen = torch.utils.data.DataLoader(dataset = train_data,\n",
    "                                             batch_size = batch_size,\n",
    "                                             shuffle = True)\n",
    "\n",
    "test_gen = torch.utils.data.DataLoader(dataset = test_data,\n",
    "                                      batch_size = batch_size, \n",
    "                                      shuffle = False)"
   ]
  },
  {
   "cell_type": "markdown",
   "metadata": {},
   "source": [
    "## Exploring the Data\n",
    "As a practioner and researcher, I am always spending a bit of time and effort exploring and understanding the dataset. It's fun and this is a good practise to ensure that everything is in order. "
   ]
  },
  {
   "cell_type": "markdown",
   "metadata": {},
   "source": [
    "Let's check what the train and test dataset contains. I will use `matplotlib` to print out some of the images from our dataset. "
   ]
  },
  {
   "cell_type": "code",
   "execution_count": 4,
   "metadata": {},
   "outputs": [
    {
     "ename": "NameError",
     "evalue": "name 'train_gen' is not defined",
     "output_type": "error",
     "traceback": [
      "\u001b[0;31m---------------------------------------------------------------------------\u001b[0m",
      "\u001b[0;31mNameError\u001b[0m                                 Traceback (most recent call last)",
      "\u001b[0;32m<ipython-input-4-5abf0b5bddd4>\u001b[0m in \u001b[0;36m<module>\u001b[0;34m\u001b[0m\n\u001b[1;32m      9\u001b[0m \u001b[0;34m\u001b[0m\u001b[0m\n\u001b[1;32m     10\u001b[0m \u001b[0;31m## get some random training images\u001b[0m\u001b[0;34m\u001b[0m\u001b[0;34m\u001b[0m\u001b[0;34m\u001b[0m\u001b[0m\n\u001b[0;32m---> 11\u001b[0;31m \u001b[0mdataiter\u001b[0m \u001b[0;34m=\u001b[0m \u001b[0miter\u001b[0m\u001b[0;34m(\u001b[0m\u001b[0mtrain_gen\u001b[0m\u001b[0;34m)\u001b[0m\u001b[0;34m\u001b[0m\u001b[0;34m\u001b[0m\u001b[0m\n\u001b[0m\u001b[1;32m     12\u001b[0m \u001b[0mimages\u001b[0m\u001b[0;34m,\u001b[0m \u001b[0mlabels\u001b[0m \u001b[0;34m=\u001b[0m \u001b[0mdataiter\u001b[0m\u001b[0;34m.\u001b[0m\u001b[0mnext\u001b[0m\u001b[0;34m(\u001b[0m\u001b[0;34m)\u001b[0m\u001b[0;34m\u001b[0m\u001b[0;34m\u001b[0m\u001b[0m\n\u001b[1;32m     13\u001b[0m \u001b[0;34m\u001b[0m\u001b[0m\n",
      "\u001b[0;31mNameError\u001b[0m: name 'train_gen' is not defined"
     ]
    }
   ],
   "source": [
    "import matplotlib.pyplot as plt\n",
    "import numpy as np\n",
    "\n",
    "## functions to show an image\n",
    "def imshow(img):\n",
    "    #img = img / 2 + 0.5     # unnormalize\n",
    "    npimg = img.numpy()\n",
    "    plt.imshow(np.transpose(npimg, (1, 2, 0)))\n",
    "\n",
    "## get some random training images\n",
    "dataiter = iter(train_gen)\n",
    "images, labels = dataiter.next()\n",
    "\n",
    "## show images\n",
    "imshow(torchvision.utils.make_grid(images))"
   ]
  },
  {
   "cell_type": "code",
   "execution_count": 6,
   "metadata": {
    "colab": {},
    "colab_type": "code",
    "id": "fL-YXTvghaz_"
   },
   "outputs": [],
   "source": [
    "#@title Define model class\n",
    "\n",
    "class Net(nn.Module):\n",
    "  def __init__(self, input_size, hidden_size, num_classes):\n",
    "    super(Net,self).__init__()\n",
    "    self.fc1 = nn.Linear(input_size, hidden_size)\n",
    "    self.relu = nn.ReLU()\n",
    "    self.fc2 = nn.Linear(hidden_size, num_classes)\n",
    "  \n",
    "  def forward(self,x):\n",
    "    out = self.fc1(x)\n",
    "    out = self.relu(out)\n",
    "    out = self.fc2(out)\n",
    "    return out"
   ]
  },
  {
   "cell_type": "code",
   "execution_count": 7,
   "metadata": {
    "colab": {},
    "colab_type": "code",
    "id": "-3EPEqbjjfAT"
   },
   "outputs": [],
   "source": [
    "#@title Build the model\n",
    "\n",
    "net = Net(input_size, hidden_size, num_classes)\n",
    "if torch.cuda.is_available():\n",
    "  net.cuda()"
   ]
  },
  {
   "cell_type": "code",
   "execution_count": 8,
   "metadata": {
    "colab": {},
    "colab_type": "code",
    "id": "ePLIwvAFj2zH"
   },
   "outputs": [],
   "source": [
    "#@title Define loss-function & optimizer\n",
    "\n",
    "loss_function = nn.CrossEntropyLoss()\n",
    "optimizer = torch.optim.Adam( net.parameters(), lr=lr)"
   ]
  },
  {
   "cell_type": "code",
   "execution_count": 10,
   "metadata": {
    "colab": {
     "base_uri": "https://localhost:8080/",
     "height": 1000
    },
    "colab_type": "code",
    "id": "u75Xa5VckuTH",
    "outputId": "17e5e108-4181-4a2b-d8df-0ccfa16c4552"
   },
   "outputs": [
    {
     "name": "stdout",
     "output_type": "stream",
     "text": [
      "Epoch [1/20], Step [100/600], Loss: 0.4130\n",
      "Epoch [1/20], Step [200/600], Loss: 0.2865\n",
      "Epoch [1/20], Step [300/600], Loss: 0.2357\n",
      "Epoch [1/20], Step [400/600], Loss: 0.1220\n",
      "Epoch [1/20], Step [500/600], Loss: 0.0917\n",
      "Epoch [1/20], Step [600/600], Loss: 0.0675\n",
      "Epoch [2/20], Step [100/600], Loss: 0.0722\n",
      "Epoch [2/20], Step [200/600], Loss: 0.0491\n",
      "Epoch [2/20], Step [300/600], Loss: 0.0628\n",
      "Epoch [2/20], Step [400/600], Loss: 0.1855\n",
      "Epoch [2/20], Step [500/600], Loss: 0.0729\n",
      "Epoch [2/20], Step [600/600], Loss: 0.0923\n",
      "Epoch [3/20], Step [100/600], Loss: 0.0819\n",
      "Epoch [3/20], Step [200/600], Loss: 0.1454\n",
      "Epoch [3/20], Step [300/600], Loss: 0.1024\n",
      "Epoch [3/20], Step [400/600], Loss: 0.0446\n",
      "Epoch [3/20], Step [500/600], Loss: 0.0536\n",
      "Epoch [3/20], Step [600/600], Loss: 0.1016\n",
      "Epoch [4/20], Step [100/600], Loss: 0.0131\n",
      "Epoch [4/20], Step [200/600], Loss: 0.0116\n",
      "Epoch [4/20], Step [300/600], Loss: 0.1251\n",
      "Epoch [4/20], Step [400/600], Loss: 0.0868\n",
      "Epoch [4/20], Step [500/600], Loss: 0.0511\n",
      "Epoch [4/20], Step [600/600], Loss: 0.0913\n",
      "Epoch [5/20], Step [100/600], Loss: 0.0188\n",
      "Epoch [5/20], Step [200/600], Loss: 0.0780\n",
      "Epoch [5/20], Step [300/600], Loss: 0.0375\n",
      "Epoch [5/20], Step [400/600], Loss: 0.0243\n",
      "Epoch [5/20], Step [500/600], Loss: 0.0646\n",
      "Epoch [5/20], Step [600/600], Loss: 0.0261\n",
      "Epoch [6/20], Step [100/600], Loss: 0.0190\n",
      "Epoch [6/20], Step [200/600], Loss: 0.0242\n",
      "Epoch [6/20], Step [300/600], Loss: 0.0967\n",
      "Epoch [6/20], Step [400/600], Loss: 0.0129\n",
      "Epoch [6/20], Step [500/600], Loss: 0.0392\n",
      "Epoch [6/20], Step [600/600], Loss: 0.0111\n",
      "Epoch [7/20], Step [100/600], Loss: 0.0066\n",
      "Epoch [7/20], Step [200/600], Loss: 0.0148\n",
      "Epoch [7/20], Step [300/600], Loss: 0.0128\n",
      "Epoch [7/20], Step [400/600], Loss: 0.0267\n",
      "Epoch [7/20], Step [500/600], Loss: 0.0261\n",
      "Epoch [7/20], Step [600/600], Loss: 0.0144\n",
      "Epoch [8/20], Step [100/600], Loss: 0.0164\n",
      "Epoch [8/20], Step [200/600], Loss: 0.0059\n",
      "Epoch [8/20], Step [300/600], Loss: 0.0066\n",
      "Epoch [8/20], Step [400/600], Loss: 0.0084\n",
      "Epoch [8/20], Step [500/600], Loss: 0.0076\n",
      "Epoch [8/20], Step [600/600], Loss: 0.0075\n",
      "Epoch [9/20], Step [100/600], Loss: 0.0114\n",
      "Epoch [9/20], Step [200/600], Loss: 0.0146\n",
      "Epoch [9/20], Step [300/600], Loss: 0.0047\n",
      "Epoch [9/20], Step [400/600], Loss: 0.0079\n",
      "Epoch [9/20], Step [500/600], Loss: 0.0160\n",
      "Epoch [9/20], Step [600/600], Loss: 0.0049\n",
      "Epoch [10/20], Step [100/600], Loss: 0.0072\n",
      "Epoch [10/20], Step [200/600], Loss: 0.0032\n",
      "Epoch [10/20], Step [300/600], Loss: 0.0017\n",
      "Epoch [10/20], Step [400/600], Loss: 0.0127\n",
      "Epoch [10/20], Step [500/600], Loss: 0.0060\n",
      "Epoch [10/20], Step [600/600], Loss: 0.0233\n",
      "Epoch [11/20], Step [100/600], Loss: 0.0198\n",
      "Epoch [11/20], Step [200/600], Loss: 0.0122\n",
      "Epoch [11/20], Step [300/600], Loss: 0.0014\n",
      "Epoch [11/20], Step [400/600], Loss: 0.0056\n",
      "Epoch [11/20], Step [500/600], Loss: 0.0049\n",
      "Epoch [11/20], Step [600/600], Loss: 0.0029\n",
      "Epoch [12/20], Step [100/600], Loss: 0.0026\n",
      "Epoch [12/20], Step [200/600], Loss: 0.0049\n",
      "Epoch [12/20], Step [300/600], Loss: 0.0014\n",
      "Epoch [12/20], Step [400/600], Loss: 0.0085\n",
      "Epoch [12/20], Step [500/600], Loss: 0.0041\n",
      "Epoch [12/20], Step [600/600], Loss: 0.0142\n",
      "Epoch [13/20], Step [100/600], Loss: 0.0007\n",
      "Epoch [13/20], Step [200/600], Loss: 0.0141\n",
      "Epoch [13/20], Step [300/600], Loss: 0.0060\n",
      "Epoch [13/20], Step [400/600], Loss: 0.0025\n",
      "Epoch [13/20], Step [500/600], Loss: 0.0004\n",
      "Epoch [13/20], Step [600/600], Loss: 0.0024\n",
      "Epoch [14/20], Step [100/600], Loss: 0.0092\n",
      "Epoch [14/20], Step [200/600], Loss: 0.0014\n",
      "Epoch [14/20], Step [300/600], Loss: 0.0009\n",
      "Epoch [14/20], Step [400/600], Loss: 0.0018\n",
      "Epoch [14/20], Step [500/600], Loss: 0.0021\n",
      "Epoch [14/20], Step [600/600], Loss: 0.0066\n",
      "Epoch [15/20], Step [100/600], Loss: 0.0013\n",
      "Epoch [15/20], Step [200/600], Loss: 0.0012\n",
      "Epoch [15/20], Step [300/600], Loss: 0.0096\n",
      "Epoch [15/20], Step [400/600], Loss: 0.0002\n",
      "Epoch [15/20], Step [500/600], Loss: 0.0012\n",
      "Epoch [15/20], Step [600/600], Loss: 0.0010\n",
      "Epoch [16/20], Step [100/600], Loss: 0.0003\n",
      "Epoch [16/20], Step [200/600], Loss: 0.0010\n",
      "Epoch [16/20], Step [300/600], Loss: 0.0003\n",
      "Epoch [16/20], Step [400/600], Loss: 0.0036\n",
      "Epoch [16/20], Step [500/600], Loss: 0.0060\n",
      "Epoch [16/20], Step [600/600], Loss: 0.0023\n",
      "Epoch [17/20], Step [100/600], Loss: 0.0005\n",
      "Epoch [17/20], Step [200/600], Loss: 0.0003\n",
      "Epoch [17/20], Step [300/600], Loss: 0.0226\n",
      "Epoch [17/20], Step [400/600], Loss: 0.0085\n",
      "Epoch [17/20], Step [500/600], Loss: 0.0023\n",
      "Epoch [17/20], Step [600/600], Loss: 0.0013\n",
      "Epoch [18/20], Step [100/600], Loss: 0.0021\n",
      "Epoch [18/20], Step [200/600], Loss: 0.0003\n",
      "Epoch [18/20], Step [300/600], Loss: 0.0002\n",
      "Epoch [18/20], Step [400/600], Loss: 0.0004\n",
      "Epoch [18/20], Step [500/600], Loss: 0.0009\n",
      "Epoch [18/20], Step [600/600], Loss: 0.0008\n",
      "Epoch [19/20], Step [100/600], Loss: 0.0005\n",
      "Epoch [19/20], Step [200/600], Loss: 0.0001\n",
      "Epoch [19/20], Step [300/600], Loss: 0.0175\n",
      "Epoch [19/20], Step [400/600], Loss: 0.0002\n",
      "Epoch [19/20], Step [500/600], Loss: 0.0029\n",
      "Epoch [19/20], Step [600/600], Loss: 0.0168\n",
      "Epoch [20/20], Step [100/600], Loss: 0.0042\n",
      "Epoch [20/20], Step [200/600], Loss: 0.0004\n",
      "Epoch [20/20], Step [300/600], Loss: 0.0005\n",
      "Epoch [20/20], Step [400/600], Loss: 0.0003\n",
      "Epoch [20/20], Step [500/600], Loss: 0.0005\n",
      "Epoch [20/20], Step [600/600], Loss: 0.0013\n"
     ]
    }
   ],
   "source": [
    "#@title Training the model\n",
    "\n",
    "for epoch in range(num_epochs):\n",
    "  for i ,(images,labels) in enumerate(train_gen):\n",
    "    images = images.view(-1,28*28).cuda()\n",
    "    labels = labels.cuda()\n",
    "    \n",
    "    optimizer.zero_grad()\n",
    "    outputs = net(images)\n",
    "    loss = loss_function(outputs, labels)\n",
    "    loss.backward()\n",
    "    optimizer.step()\n",
    "    \n",
    "    if (i+1) % 100 == 0:\n",
    "      print('Epoch [%d/%d], Step [%d/%d], Loss: %.4f'\n",
    "                 %(epoch+1, num_epochs, i+1, len(train_data)//batch_size, loss.item()))"
   ]
  },
  {
   "cell_type": "code",
   "execution_count": 12,
   "metadata": {
    "colab": {
     "base_uri": "https://localhost:8080/",
     "height": 35
    },
    "colab_type": "code",
    "id": "DTPvMW5jHB9X",
    "outputId": "15889c59-7af2-4ff7-bbd9-f1dc3158e4a9"
   },
   "outputs": [
    {
     "name": "stdout",
     "output_type": "stream",
     "text": [
      "Accuracy of the model: 98.030 %\n"
     ]
    }
   ],
   "source": [
    "#@title Evaluating the accuracy of the model\n",
    "\n",
    "correct = 0\n",
    "total = 0\n",
    "for images,labels in test_gen:\n",
    "  images = images.view(-1,28*28).cuda()\n",
    "  labels = labels.cuda()\n",
    "  \n",
    "  output = net(images)\n",
    "  _, predicted = torch.max(output,1)\n",
    "  correct += (predicted == labels).sum()\n",
    "  total += labels.size(0)\n",
    "\n",
    "print('Accuracy of the model: %.3f %%' %((100*correct.item())/(total+1)))"
   ]
  },
  {
   "cell_type": "code",
   "execution_count": null,
   "metadata": {
    "colab": {},
    "colab_type": "code",
    "id": "B4KJzvuwNdnv"
   },
   "outputs": [],
   "source": []
  }
 ],
 "metadata": {
  "accelerator": "GPU",
  "colab": {
   "name": "Pytorch MNIST.ipynb",
   "provenance": []
  },
  "kernelspec": {
   "display_name": "Python 3",
   "language": "python",
   "name": "python3"
  },
  "language_info": {
   "codemirror_mode": {
    "name": "ipython",
    "version": 3
   },
   "file_extension": ".py",
   "mimetype": "text/x-python",
   "name": "python",
   "nbconvert_exporter": "python",
   "pygments_lexer": "ipython3",
   "version": "3.8.3"
  }
 },
 "nbformat": 4,
 "nbformat_minor": 1
}
