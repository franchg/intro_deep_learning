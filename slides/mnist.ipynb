{
 "cells": [
  {
   "cell_type": "markdown",
   "metadata": {},
   "source": [
    "# MNIST training\n",
    "\n",
    "## Data loading"
   ]
  },
  {
   "cell_type": "code",
   "execution_count": null,
   "metadata": {},
   "outputs": [],
   "source": [
    "import tensorflow as tf\n",
    "import tensorflow_datasets as tfds\n",
    "\n",
    "INVERT = False\n",
    "\n",
    "(ds_train, ds_test), ds_info = tfds.load(\n",
    "    \"mnist\",\n",
    "    split=[\"train\", \"test\"],\n",
    "    shuffle_files=True,\n",
    "    as_supervised=True,\n",
    "    with_info=True,\n",
    ")\n",
    "\n",
    "ds_train"
   ]
  },
  {
   "cell_type": "markdown",
   "metadata": {},
   "source": [
    "## Training dataset setup"
   ]
  },
  {
   "cell_type": "code",
   "execution_count": null,
   "metadata": {},
   "outputs": [],
   "source": [
    "def normalize_img(image, label):\n",
    "    \"\"\"Normalizes images: `uint8` -> `float32`.\"\"\"\n",
    "    return tf.cast(image, tf.float32) / 255., label\n",
    "\n",
    "ds_train = ds_train.map(normalize_img)\n",
    "\n",
    "if INVERT:\n",
    "    def invert(image, label):\n",
    "        return (tf.cast(image, tf.float32) * -1.0) + 1.0, label\n",
    "    inverted = ds_train.map(invert)\n",
    "    ds_train = ds_train.concatenate(inverted)\n",
    "\n",
    "ds_train = ds_train.cache()\n",
    "ds_train = ds_train.shuffle(ds_info.splits[\"train\"].num_examples*(INVERT+1))\n",
    "ds_train = ds_train.batch(128)\n",
    "ds_train = ds_train.prefetch(tf.data.experimental.AUTOTUNE)"
   ]
  },
  {
   "cell_type": "markdown",
   "metadata": {},
   "source": [
    "## Testing dataset setup"
   ]
  },
  {
   "cell_type": "code",
   "execution_count": null,
   "metadata": {},
   "outputs": [],
   "source": [
    "ds_test = ds_test.map(normalize_img)\n",
    "\n",
    "if INVERT:\n",
    "    inverted = ds_test.map(invert)\n",
    "    ds_test = ds_test.concatenate(inverted)\n",
    "\n",
    "ds_test = ds_test.batch(128)\n",
    "ds_test = ds_test.cache()\n",
    "ds_test = ds_test.prefetch(tf.data.experimental.AUTOTUNE)"
   ]
  },
  {
   "cell_type": "markdown",
   "metadata": {},
   "source": [
    "## Model creation"
   ]
  },
  {
   "cell_type": "code",
   "execution_count": null,
   "metadata": {},
   "outputs": [],
   "source": [
    "max_pool = tf.keras.layers.MaxPool2D((2, 2), (2, 2), padding='same')\n",
    "\n",
    "model = tf.keras.models.Sequential([\n",
    "    tf.keras.layers.Conv2D(\n",
    "        filters=16,\n",
    "        kernel_size=5,\n",
    "        padding=\"same\",\n",
    "        activation=tf.nn.relu),\n",
    "    max_pool,\n",
    "    tf.keras.layers.Conv2D(\n",
    "        filters=32,\n",
    "        kernel_size=5,\n",
    "        padding=\"same\",\n",
    "        activation=tf.nn.relu),\n",
    "    max_pool,\n",
    "    tf.keras.layers.Flatten(),\n",
    "    tf.keras.layers.Dense(128, activation=\"relu\"),\n",
    "    tf.keras.layers.Dropout(0.4),\n",
    "    tf.keras.layers.Dense(10, activation=\"softmax\")\n",
    "])\n",
    "\n",
    "model.compile(\n",
    "    loss=\"sparse_categorical_crossentropy\",\n",
    "    optimizer=\"adam\",\n",
    "    metrics=[\"accuracy\"],\n",
    ")"
   ]
  },
  {
   "cell_type": "markdown",
   "metadata": {},
   "source": [
    "## Model fitting"
   ]
  },
  {
   "cell_type": "code",
   "execution_count": null,
   "metadata": {},
   "outputs": [],
   "source": [
    "model.fit(\n",
    "    ds_train,\n",
    "    epochs=1,\n",
    "    validation_data=ds_test,\n",
    ")"
   ]
  },
  {
   "cell_type": "markdown",
   "metadata": {},
   "source": [
    "## Prediction image loading"
   ]
  },
  {
   "cell_type": "code",
   "execution_count": null,
   "metadata": {},
   "outputs": [],
   "source": [
    "!wget -q https://github.com/milliams/machine_learning/archive/master.zip\n",
    "!unzip -q -j -o master.zip"
   ]
  },
  {
   "cell_type": "code",
   "execution_count": null,
   "metadata": {},
   "outputs": [],
   "source": [
    "import numpy as np\n",
    "from skimage.io import imread\n",
    "\n",
    "images = []\n",
    "for i in list(range(1,10)) + [\"dog\"]:\n",
    "    images.append(np.array(imread(f\"{i}.png\")/255.0, dtype='float32'))\n",
    "images = np.array(images)[:,:,:,np.newaxis]\n",
    "test_data = tf.convert_to_tensor(images)"
   ]
  },
  {
   "cell_type": "markdown",
   "metadata": {},
   "source": [
    "## Make the predictions"
   ]
  },
  {
   "cell_type": "code",
   "execution_count": null,
   "metadata": {},
   "outputs": [],
   "source": [
    "probabilities = model.predict(test_data)"
   ]
  },
  {
   "cell_type": "markdown",
   "metadata": {},
   "source": [
    "## Output stats on the predictions"
   ]
  },
  {
   "cell_type": "code",
   "execution_count": null,
   "metadata": {},
   "outputs": [],
   "source": [
    "truths = list(range(1, 10)) + [\"dog\"]\n",
    "\n",
    "table = []\n",
    "for truth, probs in zip(truths, probabilities):\n",
    "    prediction = probs.argmax()\n",
    "    if truth == 'dog':\n",
    "        print(f\"{truth}. CNN thinks it's a {prediction} ({probs[prediction]*100:.1f}%)\")\n",
    "    else:\n",
    "        print(f\"{truth} at {probs[truth]*100:4.1f}%. CNN thinks it's a {prediction} ({probs[prediction]*100:4.1f}%)\")\n",
    "    table.append((truth, probs))"
   ]
  },
  {
   "cell_type": "code",
   "execution_count": null,
   "metadata": {
    "jupyter": {
     "source_hidden": true
    }
   },
   "outputs": [],
   "source": [
    "def print_table(table):\n",
    "    print(\"\"\"<table cellpadding=\"0\" style=\"border-collapse: collapse; border-style: hidden;\">\n",
    "    <thead>\n",
    "    <tr>\n",
    "    <td><b>Image</b></td>\n",
    "    <td><b>0</b></td>\n",
    "    <td><b>1</b></td>\n",
    "    <td><b>2</b></td>\n",
    "    <td><b>3</b></td>\n",
    "    <td><b>4</b></td>\n",
    "    <td><b>5</b></td>\n",
    "    <td><b>6</b></td>\n",
    "    <td><b>7</b></td>\n",
    "    <td><b>8</b></td>\n",
    "    <td><b>9</b></td>\n",
    "    </tr>\n",
    "    </thead>\n",
    "    <tbody>\"\"\")\n",
    "    for truth, l in table:\n",
    "        print(\"<tr>\")\n",
    "        print(f'<td><img src=\"{truth}.png\" style=\"margin: 1px 0px\"></td>')\n",
    "        highest_prob = l.argmax()\n",
    "        for j, m in enumerate(l):\n",
    "            if j == highest_prob:\n",
    "                if highest_prob == truth:\n",
    "                    colour = \"green\"\n",
    "                else:\n",
    "                    colour = \"red\"\n",
    "                print(f'<td style=\"color:{colour};\">{int(round(m*100))}%</td>')\n",
    "            else:\n",
    "                print(f\"<td>{int(round(m*100))}%</td>\")\n",
    "        print(\"</tr>\")\n",
    "    print(\"\"\"</tbody>\n",
    "    </table>\"\"\")\n",
    "\n",
    "#print_table(table)"
   ]
  }
 ],
 "metadata": {
  "accelerator": "GPU",
  "colab": {
   "collapsed_sections": [],
   "name": "mnist.ipynb",
   "private_outputs": true,
   "provenance": [],
   "version": "0.3.2"
  },
  "kernelspec": {
   "display_name": "Python 3",
   "language": "python",
   "name": "python3"
  },
  "language_info": {
   "codemirror_mode": {
    "name": "ipython",
    "version": 3
   },
   "file_extension": ".py",
   "mimetype": "text/x-python",
   "name": "python",
   "nbconvert_exporter": "python",
   "pygments_lexer": "ipython3",
   "version": "3.8.3"
  }
 },
 "nbformat": 4,
 "nbformat_minor": 4
}
